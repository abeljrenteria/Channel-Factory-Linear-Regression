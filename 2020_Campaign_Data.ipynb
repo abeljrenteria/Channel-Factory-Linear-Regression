{
 "cells": [
  {
   "cell_type": "markdown",
   "id": "4ec7dc93",
   "metadata": {},
   "source": [
    "## Channel Factory 2020 Clicks Forcast Model\n",
    "A breakdown of the linear regression model created using the channel factory 2020 campaign data. This model takes the cost of a campaign and generates the projected clicks that campaign could get. \n",
    "\n",
    "Abel J. Renteria <br>\n",
    "June 3, 2021"
   ]
  },
  {
   "cell_type": "markdown",
   "id": "ef058c26",
   "metadata": {},
   "source": [
    "### Import Dependencies"
   ]
  },
  {
   "cell_type": "code",
   "execution_count": 50,
   "id": "409deab4",
   "metadata": {},
   "outputs": [],
   "source": [
    "import pandas as pd\n",
    "import seaborn as sb\n",
    "import matplotlib.pyplot as plt\n",
    "from matplotlib.pyplot import figure\n",
    "import numpy as np\n",
    "from sklearn.model_selection import train_test_split\n",
    "from sklearn.metrics import r2_score\n",
    "from sklearn.linear_model import LinearRegression\n",
    "\n",
    "# File to Load\n",
    "file_to_load = \"BI Analyst Assignment_2020_Weekly_Country.csv\"\n",
    "\n",
    "# Read Purchasing File and store into Pandas data frame\n",
    "cf_2020_campaign_data = pd.read_csv(file_to_load)"
   ]
  },
  {
   "cell_type": "code",
   "execution_count": 46,
   "id": "b9494851",
   "metadata": {},
   "outputs": [
    {
     "data": {
      "text/plain": [
       "date_week                        object\n",
       "week                             object\n",
       "campaign                         object\n",
       "ad_group                         object\n",
       "ad_group_type                    object\n",
       "ad_group_bid_strategy_type       object\n",
       "country_territory_geographic     object\n",
       "currency                         object\n",
       "clicks                            int64\n",
       "views                             int64\n",
       "impressions                       int64\n",
       "cost                            float64\n",
       "cpv_orig                         object\n",
       "cpv                             float64\n",
       "view_rate                        object\n",
       "ctr                             float64\n",
       "cpc                             float64\n",
       "dtype: object"
      ]
     },
     "execution_count": 46,
     "metadata": {},
     "output_type": "execute_result"
    }
   ],
   "source": [
    "cf_2020_campaign_data.dtypes"
   ]
  },
  {
   "cell_type": "code",
   "execution_count": 3,
   "id": "6c884014",
   "metadata": {},
   "outputs": [
    {
     "name": "stdout",
     "output_type": "stream",
     "text": [
      "date_week                           70\n",
      "week                                70\n",
      "campaign                         13587\n",
      "ad_group                          4118\n",
      "ad_group_type                        6\n",
      "ad_group_bid_strategy_type           5\n",
      "country_territory_geographic       228\n",
      "currency                             3\n",
      "clicks                            2409\n",
      "views                            36684\n",
      "impressions                      74171\n",
      "cost                             84782\n",
      "cpv_orig                        138464\n",
      "cpv                             138463\n",
      "view_rate                         9195\n",
      "ctr                             111516\n",
      "cpc                              22172\n",
      "dtype: int64\n"
     ]
    }
   ],
   "source": [
    "# Unique Counts\n",
    "campaign_count = cf_2020_campaign_data.nunique()\n",
    "print(campaign_count)"
   ]
  },
  {
   "cell_type": "markdown",
   "id": "0efdbb06",
   "metadata": {},
   "source": [
    "### Segment Data \n",
    "Including the data for just campaigns with the top ad groups (Topics - Motorsport Fanatics, Topics - Offroad & Auto Enthusiasts, KW - Adventure Seekers, KW - Motorsport Fanatics, KW - Adventurers) as found from the [tableau dashboard](https://public.tableau.com/app/profile/abel.renteria/viz/ChannelFactoryInsights/ChannelFactory2021CampaignInsights). "
   ]
  },
  {
   "cell_type": "code",
   "execution_count": 4,
   "id": "429d5856",
   "metadata": {},
   "outputs": [
    {
     "data": {
      "text/plain": [
       "array(['Topics - Motorsport Fanatics', 'KW - Motorsport Fanatics',\n",
       "       'KW - Adventurers', 'Topics - Offroad & Auto Enthusiasts',\n",
       "       'KW - Adventure Seekers'], dtype=object)"
      ]
     },
     "execution_count": 4,
     "metadata": {},
     "output_type": "execute_result"
    }
   ],
   "source": [
    "# Obtain data of just top ad groups by ctr\n",
    "top_ad_groups = cf_2020_campaign_data.loc[\n",
    "    (cf_2020_campaign_data.ad_group == \"Topics - Motorsport Fanatics\") | \n",
    "    (cf_2020_campaign_data.ad_group == \"Topics - Offroad & Auto Enthusiasts\") |\n",
    "    (cf_2020_campaign_data.ad_group == \"KW - Adventure Seekers\") |\n",
    "    (cf_2020_campaign_data.ad_group == \"KW - Motorsport Fanatics\") |\n",
    "    (cf_2020_campaign_data.ad_group == \"KW - Adventurers\")\n",
    "]\n",
    "\n",
    "#Verify df only contains the above ad groups\n",
    "top_ad_groups.ad_group.unique()"
   ]
  },
  {
   "cell_type": "code",
   "execution_count": 5,
   "id": "e1e22731",
   "metadata": {},
   "outputs": [
    {
     "data": {
      "text/plain": [
       "clicks         1.000000\n",
       "views          0.985264\n",
       "cost           0.972413\n",
       "impressions    0.796474\n",
       "ctr            0.390239\n",
       "cpv            0.150080\n",
       "cpc           -0.102171\n",
       "Name: clicks, dtype: float64"
      ]
     },
     "execution_count": 5,
     "metadata": {},
     "output_type": "execute_result"
    }
   ],
   "source": [
    "# Create correlation matrix to show what features correlate most closely with clicks\n",
    "corr_matrix = top_ad_groups.corr()\n",
    "corr_matrix.clicks.sort_values(ascending=False)"
   ]
  },
  {
   "cell_type": "code",
   "execution_count": 64,
   "id": "2bcd8eb1",
   "metadata": {},
   "outputs": [
    {
     "data": {
      "image/png": "[encoded data removed]",
      "text/plain": [
       "<Figure size 1008x576 with 1 Axes>"
      ]
     },
     "metadata": {
      "needs_background": "light"
     },
     "output_type": "display_data"
    }
   ],
   "source": [
    "#sb.lmplot('cost', 'clicks', data=top_ad_groups, fit_reg=False, scatter_kws={\"marker\": \"D\", \"s\": 20}) \n",
    "plt.figure(figsize=(14,8))\n",
    "plt.scatter(top_ad_groups['cost'],top_ad_groups['clicks'], label='Actual Data', color='b', alpha=.7)\n",
    "\n",
    "plt.xlabel('Cost ($)')\n",
    "plt.ylabel('Clicks')\n",
    "plt.show()"
   ]
  },
  {
   "cell_type": "markdown",
   "id": "dfa712ff",
   "metadata": {},
   "source": [
    "### Linear Regression\n",
    "Run a linear regression model on the dataset to generate the regression line to perform predictions for clicks based on campaign cost."
   ]
  },
  {
   "cell_type": "code",
   "execution_count": 7,
   "id": "f6cb8810",
   "metadata": {},
   "outputs": [],
   "source": [
    "x = top_ad_groups['cost']\n",
    "y = top_ad_groups['clicks']"
   ]
  },
  {
   "cell_type": "code",
   "execution_count": 21,
   "id": "362b42d8",
   "metadata": {},
   "outputs": [],
   "source": [
    "# Create test and training set for LR model\n",
    "X_train, X_test, y_train, y_test = train_test_split(x, y, test_size=0.2, random_state=42)"
   ]
  },
  {
   "cell_type": "code",
   "execution_count": 61,
   "id": "68269af2",
   "metadata": {},
   "outputs": [
    {
     "data": {
      "image/png": "[encoded data removed]",
      "text/plain": [
       "<Figure size 1008x576 with 1 Axes>"
      ]
     },
     "metadata": {
      "needs_background": "light"
     },
     "output_type": "display_data"
    }
   ],
   "source": [
    "plt.figure(figsize=(14,8))\n",
    "plt.scatter(X_train, y_train, label='Training Data', color='r', alpha=.7) \n",
    "plt.scatter(X_test, y_test, label='Test Data', color='g', alpha=.7) \n",
    "\n",
    "plt.title(\"Test Train Split\")\n",
    "plt.xlabel('Cost ($)')\n",
    "plt.ylabel('Clicks')\n",
    "plt.legend()\n",
    "plt.show()"
   ]
  },
  {
   "cell_type": "code",
   "execution_count": 26,
   "id": "13170338",
   "metadata": {},
   "outputs": [],
   "source": [
    "# Linear Regression Model\n",
    "lr = LinearRegression()\n",
    "\n",
    "lr_fit = lr.fit(X_train.values.reshape(-1, 1), y_train)\n",
    "lr_predict = lr_fit.predict(X_test.values.reshape(-1, 1)) #predictions"
   ]
  },
  {
   "cell_type": "code",
   "execution_count": 59,
   "id": "1c95ac85",
   "metadata": {},
   "outputs": [
    {
     "data": {
      "image/png": "[encoded data removed]",
      "text/plain": [
       "<Figure size 1008x576 with 1 Axes>"
      ]
     },
     "metadata": {
      "needs_background": "light"
     },
     "output_type": "display_data"
    }
   ],
   "source": [
    "# Graph Line\n",
    "plt.figure(figsize=(14,8))\n",
    "plt.plot(X_test, lr_predict, label='Linear Regression', color='b') \n",
    "plt.scatter(X_test, y_test, label='Test Data', color='g', alpha=.7)\n",
    "plt.scatter(top_ad_groups['cost'],top_ad_groups['clicks'], label='Actual Data', color='r', alpha=.7)\n",
    "plt.legend()\n",
    "plt.title(\"Linear Regression Model\")\n",
    "plt.xlabel('Cost ($)')\n",
    "plt.ylabel('Clicks')\n",
    "plt.show()"
   ]
  },
  {
   "cell_type": "code",
   "execution_count": 65,
   "id": "1fea71a3",
   "metadata": {},
   "outputs": [
    {
     "name": "stdout",
     "output_type": "stream",
     "text": [
      "Accuracy:  86.82934349394553 %\n"
     ]
    }
   ],
   "source": [
    "r2 = lr.score(X_test.values.reshape(-1, 1), y_test.values)\n",
    "print(\"Accuracy: \", r2*100, \"%\")\n"
   ]
  },
  {
   "cell_type": "code",
   "execution_count": 68,
   "id": "a9c86888",
   "metadata": {},
   "outputs": [
    {
     "name": "stdout",
     "output_type": "stream",
     "text": [
      "Campaign Cost: $ 400\n",
      "Projected Clicks:  789.4752417400196\n"
     ]
    }
   ],
   "source": [
    "# Predict campaign clicks with a campaign cost of $400\n",
    "camp_cost = 400\n",
    "proj_clicks = lr.predict(np.array([[400]]))[0]\n",
    "\n",
    "print(\"Campaign Cost: $\", camp_cost)\n",
    "print(\"Projected Clicks: \", proj_clicks)"
   ]
  },
  {
   "cell_type": "markdown",
   "id": "f1eaa368",
   "metadata": {},
   "source": [
    "## Conclusion\n",
    "This model is a simple machine learning algorithm that predicts the amount of clicks that can be expected from a campaign at a certain cost for the top ad groups (Topics - Motorsport Fanatics, Topics - Offroad & Auto Enthusiasts, KW - Adventure Seekers, KW - Motorsport Fanatics, KW - Adventurers). This model can be adapted across many other metrics including pricing max bid to generate clicks, conversions, and more. The next steps would be to utilize more historic data as well as including more metrics in the data to further forecast and also researching what other machine algorithms could be implemented on the data set to optimize campaigns.\n"
   ]
  },
  {
   "cell_type": "code",
   "execution_count": null,
   "id": "13d06a0c",
   "metadata": {},
   "outputs": [],
   "source": []
  }
 ],
 "metadata": {
  "kernelspec": {
   "display_name": "Python 3",
   "language": "python",
   "name": "python3"
  },
  "language_info": {
   "codemirror_mode": {
    "name": "ipython",
    "version": 3
   },
   "file_extension": ".py",
   "mimetype": "text/x-python",
   "name": "python",
   "nbconvert_exporter": "python",
   "pygments_lexer": "ipython3",
   "version": "3.9.0"
  }
 },
 "nbformat": 4,
 "nbformat_minor": 5
}
